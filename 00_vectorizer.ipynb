{
 "cells": [
  {
   "cell_type": "markdown",
   "id": "instructional-emergency",
   "metadata": {},
   "source": [
    "## NLP - Lesson 1\n",
    "\n",
    "In Natural Language Processing, the idea is to learn patterns and form insights from textual data using a computer. But as computers cannot understand the text directly, we have to convert the text into numerical data which then can be used as an input to traditional and modern models. Machine learning algorithms can handle any dimension of textual data when converted to numerical data using techniques like word embeddings, for example word2vec. I am writing this notebook to teach myself, and possibly others, these techniques from scratch and also using famous python libraries."
   ]
  },
  {
   "cell_type": "markdown",
   "id": "pending-stopping",
   "metadata": {},
   "source": [
    "### Libraries import"
   ]
  },
  {
   "cell_type": "code",
   "execution_count": 18,
   "id": "increasing-technology",
   "metadata": {},
   "outputs": [],
   "source": [
    "import pandas as pd\n",
    "import numpy as np\n",
    "import re\n",
    "\n",
    "import matplotlib.pyplot as plt\n",
    "import seaborn as sns\n",
    "\n",
    "import warnings\n",
    "warnings.filterwarnings('ignore')"
   ]
  },
  {
   "cell_type": "code",
   "execution_count": 15,
   "id": "alternative-contributor",
   "metadata": {},
   "outputs": [],
   "source": [
    "pd.set_option('display.max_colwidth',-1)"
   ]
  },
  {
   "cell_type": "markdown",
   "id": "thick-motel",
   "metadata": {},
   "source": [
    "### Data - Twitter Disaster Classification\n",
    "\n",
    "I have downloaded this data from Kaggle from the **Twitter Disaster Classification** competition.\n",
    "Source - [Twitter Disaster Classification](https://www.kaggle.com/competitions/nlp-getting-started/overview)"
   ]
  },
  {
   "cell_type": "code",
   "execution_count": 2,
   "id": "favorite-desert",
   "metadata": {},
   "outputs": [
    {
     "data": {
      "text/html": [
       "<div>\n",
       "<style scoped>\n",
       "    .dataframe tbody tr th:only-of-type {\n",
       "        vertical-align: middle;\n",
       "    }\n",
       "\n",
       "    .dataframe tbody tr th {\n",
       "        vertical-align: top;\n",
       "    }\n",
       "\n",
       "    .dataframe thead th {\n",
       "        text-align: right;\n",
       "    }\n",
       "</style>\n",
       "<table border=\"1\" class=\"dataframe\">\n",
       "  <thead>\n",
       "    <tr style=\"text-align: right;\">\n",
       "      <th></th>\n",
       "      <th>id</th>\n",
       "      <th>keyword</th>\n",
       "      <th>location</th>\n",
       "      <th>text</th>\n",
       "      <th>target</th>\n",
       "    </tr>\n",
       "  </thead>\n",
       "  <tbody>\n",
       "    <tr>\n",
       "      <th>0</th>\n",
       "      <td>1</td>\n",
       "      <td>NaN</td>\n",
       "      <td>NaN</td>\n",
       "      <td>Our Deeds are the Reason of this #earthquake M...</td>\n",
       "      <td>1</td>\n",
       "    </tr>\n",
       "    <tr>\n",
       "      <th>1</th>\n",
       "      <td>4</td>\n",
       "      <td>NaN</td>\n",
       "      <td>NaN</td>\n",
       "      <td>Forest fire near La Ronge Sask. Canada</td>\n",
       "      <td>1</td>\n",
       "    </tr>\n",
       "    <tr>\n",
       "      <th>2</th>\n",
       "      <td>5</td>\n",
       "      <td>NaN</td>\n",
       "      <td>NaN</td>\n",
       "      <td>All residents asked to 'shelter in place' are ...</td>\n",
       "      <td>1</td>\n",
       "    </tr>\n",
       "  </tbody>\n",
       "</table>\n",
       "</div>"
      ],
      "text/plain": [
       "   id keyword location                                               text  \\\n",
       "0   1     NaN      NaN  Our Deeds are the Reason of this #earthquake M...   \n",
       "1   4     NaN      NaN             Forest fire near La Ronge Sask. Canada   \n",
       "2   5     NaN      NaN  All residents asked to 'shelter in place' are ...   \n",
       "\n",
       "   target  \n",
       "0       1  \n",
       "1       1  \n",
       "2       1  "
      ]
     },
     "execution_count": 2,
     "metadata": {},
     "output_type": "execute_result"
    }
   ],
   "source": [
    "data = pd.read_csv(\"./data/train.csv\")\n",
    "data.head(3)"
   ]
  },
  {
   "cell_type": "markdown",
   "id": "ignored-steal",
   "metadata": {},
   "source": [
    "### Exploratory Data Analysis\n",
    "\n",
    "Let's explore the data to see what kind of columns are available for us to use. The main problem we are trying to work on in this is sentiment analysis to understand if the tweet corresponds to a disaster or not. Here, disaster would mean anything negative. Further breakdown of a tweet being a life threatening disaster or not could be subjective. So, we will use machine learning techniques to give an elementary analysism of a tweet being negative or positive."
   ]
  },
  {
   "cell_type": "code",
   "execution_count": 3,
   "id": "exact-senator",
   "metadata": {},
   "outputs": [
    {
     "data": {
      "text/plain": [
       "Index(['id', 'keyword', 'location', 'text', 'target'], dtype='object')"
      ]
     },
     "execution_count": 3,
     "metadata": {},
     "output_type": "execute_result"
    }
   ],
   "source": [
    "data.columns"
   ]
  },
  {
   "cell_type": "code",
   "execution_count": 5,
   "id": "simplified-diary",
   "metadata": {},
   "outputs": [
    {
     "data": {
      "text/plain": [
       "(7613, 5)"
      ]
     },
     "execution_count": 5,
     "metadata": {},
     "output_type": "execute_result"
    }
   ],
   "source": [
    "data.shape"
   ]
  },
  {
   "cell_type": "code",
   "execution_count": 6,
   "id": "featured-oxide",
   "metadata": {},
   "outputs": [
    {
     "data": {
      "text/plain": [
       "(id             0\n",
       " keyword       61\n",
       " location    2533\n",
       " text           0\n",
       " target         0\n",
       " dtype: int64,\n",
       " id          0.000000\n",
       " keyword     0.008013\n",
       " location    0.332720\n",
       " text        0.000000\n",
       " target      0.000000\n",
       " dtype: float64)"
      ]
     },
     "execution_count": 6,
     "metadata": {},
     "output_type": "execute_result"
    }
   ],
   "source": [
    "data.isna().sum(), data.isna().sum()/data.shape[0]"
   ]
  },
  {
   "cell_type": "code",
   "execution_count": 8,
   "id": "integral-ranking",
   "metadata": {},
   "outputs": [
    {
     "data": {
      "text/plain": [
       "id          7613\n",
       "keyword      221\n",
       "location    3341\n",
       "text        7503\n",
       "target         2\n",
       "dtype: int64"
      ]
     },
     "execution_count": 8,
     "metadata": {},
     "output_type": "execute_result"
    }
   ],
   "source": [
    "data.nunique()"
   ]
  },
  {
   "cell_type": "code",
   "execution_count": 11,
   "id": "knowing-turner",
   "metadata": {},
   "outputs": [
    {
     "data": {
      "text/plain": [
       "0    0.57034\n",
       "1    0.42966\n",
       "Name: target, dtype: float64"
      ]
     },
     "execution_count": 11,
     "metadata": {},
     "output_type": "execute_result"
    }
   ],
   "source": [
    "data['target'].value_counts()/data.shape[0]"
   ]
  },
  {
   "cell_type": "code",
   "execution_count": 12,
   "id": "brave-campus",
   "metadata": {},
   "outputs": [
    {
     "data": {
      "text/html": [
       "<div>\n",
       "<style scoped>\n",
       "    .dataframe tbody tr th:only-of-type {\n",
       "        vertical-align: middle;\n",
       "    }\n",
       "\n",
       "    .dataframe tbody tr th {\n",
       "        vertical-align: top;\n",
       "    }\n",
       "\n",
       "    .dataframe thead th {\n",
       "        text-align: right;\n",
       "    }\n",
       "</style>\n",
       "<table border=\"1\" class=\"dataframe\">\n",
       "  <thead>\n",
       "    <tr style=\"text-align: right;\">\n",
       "      <th></th>\n",
       "      <th>num_rows</th>\n",
       "    </tr>\n",
       "    <tr>\n",
       "      <th>location</th>\n",
       "      <th></th>\n",
       "    </tr>\n",
       "  </thead>\n",
       "  <tbody>\n",
       "    <tr>\n",
       "      <th>USA</th>\n",
       "      <td>104</td>\n",
       "    </tr>\n",
       "    <tr>\n",
       "      <th>New York</th>\n",
       "      <td>71</td>\n",
       "    </tr>\n",
       "    <tr>\n",
       "      <th>United States</th>\n",
       "      <td>50</td>\n",
       "    </tr>\n",
       "    <tr>\n",
       "      <th>London</th>\n",
       "      <td>45</td>\n",
       "    </tr>\n",
       "    <tr>\n",
       "      <th>Canada</th>\n",
       "      <td>29</td>\n",
       "    </tr>\n",
       "    <tr>\n",
       "      <th>...</th>\n",
       "      <td>...</td>\n",
       "    </tr>\n",
       "    <tr>\n",
       "      <th>Hueco Mundo</th>\n",
       "      <td>1</td>\n",
       "    </tr>\n",
       "    <tr>\n",
       "      <th>Hughes, AR</th>\n",
       "      <td>1</td>\n",
       "    </tr>\n",
       "    <tr>\n",
       "      <th>Huntington, WV</th>\n",
       "      <td>1</td>\n",
       "    </tr>\n",
       "    <tr>\n",
       "      <th>Huntley, IL</th>\n",
       "      <td>1</td>\n",
       "    </tr>\n",
       "    <tr>\n",
       "      <th>åø\\_(?)_/åø</th>\n",
       "      <td>1</td>\n",
       "    </tr>\n",
       "  </tbody>\n",
       "</table>\n",
       "<p>3341 rows × 1 columns</p>\n",
       "</div>"
      ],
      "text/plain": [
       "                num_rows\n",
       "location                \n",
       "USA                  104\n",
       "New York              71\n",
       "United States         50\n",
       "London                45\n",
       "Canada                29\n",
       "...                  ...\n",
       "Hueco Mundo            1\n",
       "Hughes, AR             1\n",
       "Huntington, WV         1\n",
       "Huntley, IL            1\n",
       "åø\\_(?)_/åø            1\n",
       "\n",
       "[3341 rows x 1 columns]"
      ]
     },
     "execution_count": 12,
     "metadata": {},
     "output_type": "execute_result"
    }
   ],
   "source": [
    "data.groupby(['location']).size().to_frame('num_rows').sort_values('num_rows', ascending=False)"
   ]
  },
  {
   "cell_type": "markdown",
   "id": "killing-flooring",
   "metadata": {},
   "source": [
    "### Text Preprocessing"
   ]
  },
  {
   "cell_type": "code",
   "execution_count": 17,
   "id": "alleged-search",
   "metadata": {},
   "outputs": [
    {
     "data": {
      "text/html": [
       "<div>\n",
       "<style scoped>\n",
       "    .dataframe tbody tr th:only-of-type {\n",
       "        vertical-align: middle;\n",
       "    }\n",
       "\n",
       "    .dataframe tbody tr th {\n",
       "        vertical-align: top;\n",
       "    }\n",
       "\n",
       "    .dataframe thead th {\n",
       "        text-align: right;\n",
       "    }\n",
       "</style>\n",
       "<table border=\"1\" class=\"dataframe\">\n",
       "  <thead>\n",
       "    <tr style=\"text-align: right;\">\n",
       "      <th></th>\n",
       "      <th>text</th>\n",
       "      <th>target</th>\n",
       "    </tr>\n",
       "  </thead>\n",
       "  <tbody>\n",
       "    <tr>\n",
       "      <th>3180</th>\n",
       "      <td>Do you know the emergency plan at your workplace? If not ask your supervisor or operations manager. #Retail</td>\n",
       "      <td>0</td>\n",
       "    </tr>\n",
       "    <tr>\n",
       "      <th>4484</th>\n",
       "      <td>One Year on from the Sinjar Massacre #Yazidis Blast Lack of Action Over Hostages\\nhttp://t.co/BAqOcMcJqc</td>\n",
       "      <td>1</td>\n",
       "    </tr>\n",
       "    <tr>\n",
       "      <th>6086</th>\n",
       "      <td>After a Few Years Afloat Pension Plans Start Sinking Again http://t.co/4cEEuzWHvf</td>\n",
       "      <td>1</td>\n",
       "    </tr>\n",
       "    <tr>\n",
       "      <th>5028</th>\n",
       "      <td>DORETTE THATS THE NAME OF THE MUDSLIDE CAKE MAKER</td>\n",
       "      <td>0</td>\n",
       "    </tr>\n",
       "    <tr>\n",
       "      <th>1081</th>\n",
       "      <td>I came up with an idea of a fragrance concept for a bath bomb called The Blood of my Enemies. So you can say that's what you bathe in.</td>\n",
       "      <td>1</td>\n",
       "    </tr>\n",
       "  </tbody>\n",
       "</table>\n",
       "</div>"
      ],
      "text/plain": [
       "                                                                                                                                        text  \\\n",
       "3180  Do you know the emergency plan at your workplace? If not ask your supervisor or operations manager. #Retail                              \n",
       "4484  One Year on from the Sinjar Massacre #Yazidis Blast Lack of Action Over Hostages\\nhttp://t.co/BAqOcMcJqc                                 \n",
       "6086  After a Few Years Afloat Pension Plans Start Sinking Again http://t.co/4cEEuzWHvf                                                        \n",
       "5028  DORETTE THATS THE NAME OF THE MUDSLIDE CAKE MAKER                                                                                        \n",
       "1081  I came up with an idea of a fragrance concept for a bath bomb called The Blood of my Enemies. So you can say that's what you bathe in.   \n",
       "\n",
       "      target  \n",
       "3180  0       \n",
       "4484  1       \n",
       "6086  1       \n",
       "5028  0       \n",
       "1081  1       "
      ]
     },
     "execution_count": 17,
     "metadata": {},
     "output_type": "execute_result"
    }
   ],
   "source": [
    "data[['text','target']].sample(5)"
   ]
  },
  {
   "cell_type": "markdown",
   "id": "optional-auction",
   "metadata": {},
   "source": [
    "We see that as text could contain a lot of extra words or symbols or even emoticons which doesn't necessarily add any relevance or emotion to the context, we should not be including them while teaching a model how to classify any textual data as positive or negative as it could only increase overhead on the model and machine to process additional data with little to no information addition."
   ]
  },
  {
   "cell_type": "markdown",
   "id": "stone-equivalent",
   "metadata": {},
   "source": [
    "## Step-by-Step guide\n",
    "\n",
    "Let's explore the steps we will be using in text preprocessing.\n",
    "\n",
    "1. Remove case sensitivity and remove symbols\n",
    "2. Tokenization\n",
    "3. Remove stop words\n",
    "4. Stemming / Lemmatization"
   ]
  },
  {
   "cell_type": "markdown",
   "id": "ordered-rebel",
   "metadata": {},
   "source": [
    "### 1. Remove case sensitivity and remove symbols"
   ]
  },
  {
   "cell_type": "code",
   "execution_count": 19,
   "id": "emotional-boxing",
   "metadata": {},
   "outputs": [],
   "source": [
    "def clean_text(row,col):\n",
    "    val = row[col]\n",
    "    val = val.lower() ## removing case sensitivity\n",
    "    val = re.compile(r'https?://\\S+|www\\.\\S+').sub(r'',val) ## removing hyper-link information\n",
    "    val = re.compile(r'[^a-zA-Z0-9]').sub(r' ',val).strip() ## keeping only alpha-numeric data and removing leading and trailing white spaces\n",
    "    return val"
   ]
  },
  {
   "cell_type": "code",
   "execution_count": 20,
   "id": "shared-royal",
   "metadata": {},
   "outputs": [],
   "source": [
    "data['cleaned_text'] = data.apply(clean_text,args=['text'],axis=1)"
   ]
  },
  {
   "cell_type": "code",
   "execution_count": 22,
   "id": "covered-shaft",
   "metadata": {},
   "outputs": [
    {
     "data": {
      "text/html": [
       "<div>\n",
       "<style scoped>\n",
       "    .dataframe tbody tr th:only-of-type {\n",
       "        vertical-align: middle;\n",
       "    }\n",
       "\n",
       "    .dataframe tbody tr th {\n",
       "        vertical-align: top;\n",
       "    }\n",
       "\n",
       "    .dataframe thead th {\n",
       "        text-align: right;\n",
       "    }\n",
       "</style>\n",
       "<table border=\"1\" class=\"dataframe\">\n",
       "  <thead>\n",
       "    <tr style=\"text-align: right;\">\n",
       "      <th></th>\n",
       "      <th>text</th>\n",
       "      <th>cleaned_text</th>\n",
       "      <th>target</th>\n",
       "    </tr>\n",
       "  </thead>\n",
       "  <tbody>\n",
       "    <tr>\n",
       "      <th>0</th>\n",
       "      <td>Our Deeds are the Reason of this #earthquake May ALLAH Forgive us all</td>\n",
       "      <td>our deeds are the reason of this  earthquake may allah forgive us all</td>\n",
       "      <td>1</td>\n",
       "    </tr>\n",
       "    <tr>\n",
       "      <th>1</th>\n",
       "      <td>Forest fire near La Ronge Sask. Canada</td>\n",
       "      <td>forest fire near la ronge sask  canada</td>\n",
       "      <td>1</td>\n",
       "    </tr>\n",
       "    <tr>\n",
       "      <th>2</th>\n",
       "      <td>All residents asked to 'shelter in place' are being notified by officers. No other evacuation or shelter in place orders are expected</td>\n",
       "      <td>all residents asked to  shelter in place  are being notified by officers  no other evacuation or shelter in place orders are expected</td>\n",
       "      <td>1</td>\n",
       "    </tr>\n",
       "    <tr>\n",
       "      <th>3</th>\n",
       "      <td>13,000 people receive #wildfires evacuation orders in California</td>\n",
       "      <td>13 000 people receive  wildfires evacuation orders in california</td>\n",
       "      <td>1</td>\n",
       "    </tr>\n",
       "    <tr>\n",
       "      <th>4</th>\n",
       "      <td>Just got sent this photo from Ruby #Alaska as smoke from #wildfires pours into a school</td>\n",
       "      <td>just got sent this photo from ruby  alaska as smoke from  wildfires pours into a school</td>\n",
       "      <td>1</td>\n",
       "    </tr>\n",
       "  </tbody>\n",
       "</table>\n",
       "</div>"
      ],
      "text/plain": [
       "                                                                                                                                    text  \\\n",
       "0  Our Deeds are the Reason of this #earthquake May ALLAH Forgive us all                                                                   \n",
       "1  Forest fire near La Ronge Sask. Canada                                                                                                  \n",
       "2  All residents asked to 'shelter in place' are being notified by officers. No other evacuation or shelter in place orders are expected   \n",
       "3  13,000 people receive #wildfires evacuation orders in California                                                                        \n",
       "4  Just got sent this photo from Ruby #Alaska as smoke from #wildfires pours into a school                                                 \n",
       "\n",
       "                                                                                                                            cleaned_text  \\\n",
       "0  our deeds are the reason of this  earthquake may allah forgive us all                                                                   \n",
       "1  forest fire near la ronge sask  canada                                                                                                  \n",
       "2  all residents asked to  shelter in place  are being notified by officers  no other evacuation or shelter in place orders are expected   \n",
       "3  13 000 people receive  wildfires evacuation orders in california                                                                        \n",
       "4  just got sent this photo from ruby  alaska as smoke from  wildfires pours into a school                                                 \n",
       "\n",
       "   target  \n",
       "0  1       \n",
       "1  1       \n",
       "2  1       \n",
       "3  1       \n",
       "4  1       "
      ]
     },
     "execution_count": 22,
     "metadata": {},
     "output_type": "execute_result"
    }
   ],
   "source": [
    "train_data = data[['text','cleaned_text','target']]\n",
    "train_data.head(5)"
   ]
  },
  {
   "cell_type": "markdown",
   "id": "published-marshall",
   "metadata": {},
   "source": [
    "This shows that the text looks much better. There are no hashtags as we can see in the first and fifth row. However, removing periods (.) or commas may add problems with punctuations but we can target that later with more complex models (once I teach myself more about it xD)"
   ]
  },
  {
   "cell_type": "markdown",
   "id": "automotive-tennessee",
   "metadata": {},
   "source": [
    "### 2. Tokenzation\n",
    "\n",
    "Tokenization is the first step to be used in any NLP use-case. The idea is to convert the raw text into word tokens or sentence tokens. We will convert the text into word-tokens for this use-case."
   ]
  },
  {
   "cell_type": "code",
   "execution_count": 38,
   "id": "parallel-series",
   "metadata": {},
   "outputs": [],
   "source": [
    "train_data['text_list'] = train_data['cleaned_text'].map(lambda x : x.split(' '))"
   ]
  },
  {
   "cell_type": "code",
   "execution_count": 39,
   "id": "incident-acceptance",
   "metadata": {},
   "outputs": [
    {
     "data": {
      "text/plain": [
       "array([list(['fire', 'hazard', 'associated', 'with', 'installation', 'of', 'non', 'compliant', 'external', 'cladding', 'on', '', '', '', 'by']),\n",
       "       list(['epicentre', '', '', 'cydia', 'tweak', '', '', '', '', '', 'thanks', 'to', '', 'phillipten']),\n",
       "       list(['how', 'to', 'restore', 'vinyl', 'siding', 'and', 'make', 'it', 'look', 'new', 'again']),\n",
       "       list(['slone', 'did', 'the', 'first', 'world', 'war', 'ever', 'truly', 'end', '', 'the', 'ripples', 'are', 'with', 'still', 'and', 'have', 'been', 'compound', 'into', 'low', 'level', 'tsunami']),\n",
       "       list(['obama', 'declares', 'disaster', 'for', 'typhoon', 'devastated', 'saipan'])],\n",
       "      dtype=object)"
      ]
     },
     "execution_count": 39,
     "metadata": {},
     "output_type": "execute_result"
    }
   ],
   "source": [
    "train_data.sample(5)['text_list'].values"
   ]
  },
  {
   "cell_type": "markdown",
   "id": "secondary-hindu",
   "metadata": {},
   "source": [
    "We see that words like 'of', 'on', 'to',' the', 'it' doesn't exactly add any information to the sentence (context might challenge this argument). So, we will be removing these words as such words are called stop-words in NLP."
   ]
  },
  {
   "cell_type": "markdown",
   "id": "extra-triangle",
   "metadata": {},
   "source": [
    "### 3. Remove stopwords\n",
    "\n",
    "We will be using nltk library to remove stopwords from the english text."
   ]
  },
  {
   "cell_type": "code",
   "execution_count": 23,
   "id": "fleet-damages",
   "metadata": {},
   "outputs": [],
   "source": [
    "from nltk.corpus import stopwords"
   ]
  },
  {
   "cell_type": "code",
   "execution_count": 24,
   "id": "metropolitan-lindsay",
   "metadata": {},
   "outputs": [],
   "source": [
    "def filter_stopwords(row,col):\n",
    "    word_list = row[col]\n",
    "    filtered_words = [word for word in word_list if word not in stopwords.words('english')]\n",
    "    return filtered_words"
   ]
  },
  {
   "cell_type": "code",
   "execution_count": 28,
   "id": "hindu-karen",
   "metadata": {},
   "outputs": [
    {
     "name": "stdout",
     "output_type": "stream",
     "text": [
      "CPU times: user 19 s, sys: 4.4 s, total: 23.4 s\n",
      "Wall time: 24 s\n"
     ]
    }
   ],
   "source": [
    "%%time\n",
    "\n",
    "train_data['text_wdout_stop'] = train_data.apply(filter_stopwords, args=['text_list'], axis=1)"
   ]
  },
  {
   "cell_type": "code",
   "execution_count": 29,
   "id": "metallic-bibliography",
   "metadata": {},
   "outputs": [
    {
     "data": {
      "text/plain": [
       "array([list(['rand', 'paul', 'debate', 'strategy', '', 'demolish', 'bad', 'ideas', 'point', 'maybe', 'em']),\n",
       "       list(['kamkasteiiano', '', 'bluntedjayt', 'fucking', 'screaming']),\n",
       "       list(['taaylordarr', 'thank', '', '', '', 'survived']),\n",
       "       list(['realized', 'honestly', 'survive', 'without', 'glasses', 'lol']),\n",
       "       list(['nws', '', 'flash', 'flood', 'warning', 'continued', 'shelby', 'county', '08', '00', 'pm', 'wednesday', '', '', '', 'tnwx'])],\n",
       "      dtype=object)"
      ]
     },
     "execution_count": 29,
     "metadata": {},
     "output_type": "execute_result"
    }
   ],
   "source": [
    "train_data.sample(5)['text_wdout_stop'].values"
   ]
  },
  {
   "cell_type": "markdown",
   "id": "african-ceremony",
   "metadata": {},
   "source": [
    "We see that there are some irrelevant data that we can see from this. Let's remove that by filtering on the length of words being used."
   ]
  },
  {
   "cell_type": "code",
   "execution_count": 30,
   "id": "sealed-respect",
   "metadata": {},
   "outputs": [],
   "source": [
    "def filter_stopwords2(row,col):\n",
    "    word_list = row[col]\n",
    "    filtered_words = [word for word in word_list if word not in stopwords.words('english')]\n",
    "    filtered_words = \" \".join([word for word in filtered_words if len(word) > 3])\n",
    "    return filtered_words"
   ]
  },
  {
   "cell_type": "code",
   "execution_count": 31,
   "id": "systematic-material",
   "metadata": {},
   "outputs": [
    {
     "name": "stdout",
     "output_type": "stream",
     "text": [
      "CPU times: user 18.8 s, sys: 4.33 s, total: 23.1 s\n",
      "Wall time: 23.6 s\n"
     ]
    }
   ],
   "source": [
    "%%time\n",
    "\n",
    "train_data['text_wdout_stop'] = train_data.apply(filter_stopwords2, args=['text_list'], axis=1)"
   ]
  },
  {
   "cell_type": "code",
   "execution_count": 32,
   "id": "separated-tolerance",
   "metadata": {},
   "outputs": [
    {
     "data": {
      "text/plain": [
       "array(['number people denying climate change polar bear article makes fear future also humanity general',\n",
       "       'burning legion returned',\n",
       "       'expect gusty winds heavy downpours lightning moving northeast toward',\n",
       "       'crash test trailer paul scheer huebel comedy special recorded',\n",
       "       'video picking bodies water rescuers searching hundreds migrants mediterranean boat carryi'],\n",
       "      dtype=object)"
      ]
     },
     "execution_count": 32,
     "metadata": {},
     "output_type": "execute_result"
    }
   ],
   "source": [
    "train_data.sample(5)['text_wdout_stop'].values"
   ]
  },
  {
   "cell_type": "code",
   "execution_count": 61,
   "id": "brutal-smoke",
   "metadata": {},
   "outputs": [],
   "source": [
    "full_data = train_data.copy()"
   ]
  },
  {
   "cell_type": "code",
   "execution_count": 60,
   "id": "earlier-matter",
   "metadata": {},
   "outputs": [],
   "source": [
    "from sklearn.model_selection import train_test_split\n",
    "from sklearn.feature_extraction.text import CountVectorizer, TfidfVectorizer"
   ]
  },
  {
   "cell_type": "code",
   "execution_count": 62,
   "id": "close-japan",
   "metadata": {},
   "outputs": [],
   "source": [
    "train_data, test_data = train_test_split(train_data, test_size=0.2, random_state=100)"
   ]
  },
  {
   "cell_type": "code",
   "execution_count": 63,
   "id": "declared-billy",
   "metadata": {},
   "outputs": [
    {
     "data": {
      "text/plain": [
       "(0.43004926108374386, 0.42810242941562704)"
      ]
     },
     "execution_count": 63,
     "metadata": {},
     "output_type": "execute_result"
    }
   ],
   "source": [
    "train_data['target'].mean(), test_data['target'].mean()"
   ]
  },
  {
   "cell_type": "code",
   "execution_count": 64,
   "id": "desirable-immigration",
   "metadata": {},
   "outputs": [
    {
     "name": "stdout",
     "output_type": "stream",
     "text": [
      "CPU times: user 188 µs, sys: 2 µs, total: 190 µs\n",
      "Wall time: 195 µs\n"
     ]
    },
    {
     "data": {
      "text/plain": [
       "6090"
      ]
     },
     "execution_count": 64,
     "metadata": {},
     "output_type": "execute_result"
    }
   ],
   "source": [
    "%%time\n",
    "\n",
    "## Creating the vocabulary\n",
    "\n",
    "all_texts = train_data['text_wdout_stop'].values\n",
    "len(all_texts)"
   ]
  },
  {
   "cell_type": "code",
   "execution_count": 65,
   "id": "natural-brain",
   "metadata": {},
   "outputs": [
    {
     "data": {
      "text/plain": [
       "array(['twitter update pretty much wrecked',\n",
       "       'want destroy america obama dilutional institutionalize sued slander',\n",
       "       'elielcruz watching streams think could actually walk panic sick',\n",
       "       'child needs emergency care seen emergency department radychildrens specialists',\n",
       "       'remember time patrick kane attacked driver'], dtype=object)"
      ]
     },
     "execution_count": 65,
     "metadata": {},
     "output_type": "execute_result"
    }
   ],
   "source": [
    "all_texts[:5]"
   ]
  },
  {
   "cell_type": "code",
   "execution_count": 58,
   "id": "plastic-marker",
   "metadata": {},
   "outputs": [],
   "source": [
    "from sklearn.linear_model import LogisticRegression\n",
    "from sklearn.metrics import accuracy_score, f1_score, plot_confusion_matrix, confusion_matrix, roc_auc_score"
   ]
  },
  {
   "cell_type": "code",
   "execution_count": 66,
   "id": "annoying-clerk",
   "metadata": {},
   "outputs": [],
   "source": [
    "tfidf = TfidfVectorizer()\n",
    "vectors = tfidf.fit_transform(all_texts)"
   ]
  },
  {
   "cell_type": "code",
   "execution_count": 67,
   "id": "floppy-agent",
   "metadata": {},
   "outputs": [],
   "source": [
    "# from xgboost import XGBClassifier\n",
    "from sklearn.linear_model import LogisticRegression\n",
    "from sklearn.metrics import precision_recall_curve"
   ]
  },
  {
   "cell_type": "code",
   "execution_count": 68,
   "id": "manufactured-briefing",
   "metadata": {},
   "outputs": [
    {
     "data": {
      "text/plain": [
       "LogisticRegression()"
      ]
     },
     "execution_count": 68,
     "metadata": {},
     "output_type": "execute_result"
    }
   ],
   "source": [
    "# xgb = XGBClassifier()\n",
    "lr = LogisticRegression()\n",
    "lr.fit(vectors,train_data['target'])"
   ]
  },
  {
   "cell_type": "code",
   "execution_count": 69,
   "id": "manual-jefferson",
   "metadata": {},
   "outputs": [],
   "source": [
    "pred = lr.predict(vectors)\n",
    "proba = lr.predict_proba(vectors)[:,1]"
   ]
  },
  {
   "cell_type": "code",
   "execution_count": 70,
   "id": "killing-tonight",
   "metadata": {},
   "outputs": [],
   "source": [
    "def print_metrics(actual,pred, proba,model,X):\n",
    "    auc = np.round(roc_auc_score(actual,proba),3)\n",
    "    acc = np.round(accuracy_score(actual,pred),3)\n",
    "    f1 = np.round(f1_score(actual,pred),3)\n",
    "    cm = confusion_matrix(actual,pred)\n",
    "    print(\"AUC : {}, Accuracy {} , F1 Score {}\".format(auc,acc,f1))\n",
    "    plot_confusion_matrix(model,X,actual,cmap='Blues')"
   ]
  },
  {
   "cell_type": "code",
   "execution_count": 71,
   "id": "protective-custom",
   "metadata": {},
   "outputs": [
    {
     "name": "stdout",
     "output_type": "stream",
     "text": [
      "AUC : 0.963, Accuracy 0.892 , F1 Score 0.862\n"
     ]
    },
    {
     "data": {
      "image/png": "[encoded data removed]",
      "text/plain": [
       "<Figure size 432x288 with 2 Axes>"
      ]
     },
     "metadata": {
      "needs_background": "light"
     },
     "output_type": "display_data"
    }
   ],
   "source": [
    "print_metrics(train_data['target'], pred, proba, lr, vectors)"
   ]
  },
  {
   "cell_type": "code",
   "execution_count": 72,
   "id": "transsexual-warehouse",
   "metadata": {},
   "outputs": [
    {
     "data": {
      "image/png": "[encoded data removed]",
      "text/plain": [
       "<Figure size 432x288 with 1 Axes>"
      ]
     },
     "metadata": {
      "needs_background": "light"
     },
     "output_type": "display_data"
    }
   ],
   "source": [
    "precision, recall, thresholds = precision_recall_curve(train_data['target'], proba)\n",
    "plt.fill_between(recall, precision)\n",
    "plt.ylabel(\"Precision\")\n",
    "plt.xlabel(\"Recall\")\n",
    "plt.title(\"Train Precision-Recall curve\");"
   ]
  },
  {
   "cell_type": "code",
   "execution_count": 73,
   "id": "professional-tyler",
   "metadata": {},
   "outputs": [
    {
     "name": "stdout",
     "output_type": "stream",
     "text": [
      "CPU times: user 193 µs, sys: 1 µs, total: 194 µs\n",
      "Wall time: 200 µs\n"
     ]
    },
    {
     "data": {
      "text/plain": [
       "1523"
      ]
     },
     "execution_count": 73,
     "metadata": {},
     "output_type": "execute_result"
    }
   ],
   "source": [
    "%%time\n",
    "\n",
    "## Creating the vocabulary\n",
    "\n",
    "test_texts = test_data['text_wdout_stop'].values\n",
    "len(test_texts)"
   ]
  },
  {
   "cell_type": "code",
   "execution_count": 74,
   "id": "attractive-relationship",
   "metadata": {},
   "outputs": [],
   "source": [
    "test_vectors = tfidf.transform(test_texts)"
   ]
  },
  {
   "cell_type": "code",
   "execution_count": 75,
   "id": "elementary-headline",
   "metadata": {},
   "outputs": [],
   "source": [
    "test_pred = lr.predict(test_vectors)\n",
    "test_proba = lr.predict_proba(test_vectors)[:,1]"
   ]
  },
  {
   "cell_type": "code",
   "execution_count": 76,
   "id": "fallen-helmet",
   "metadata": {},
   "outputs": [
    {
     "name": "stdout",
     "output_type": "stream",
     "text": [
      "AUC : 0.869, Accuracy 0.804 , F1 Score 0.744\n"
     ]
    },
    {
     "data": {
      "image/png": "[encoded data removed]",
      "text/plain": [
       "<Figure size 432x288 with 2 Axes>"
      ]
     },
     "metadata": {
      "needs_background": "light"
     },
     "output_type": "display_data"
    }
   ],
   "source": [
    "print_metrics(test_data['target'], test_pred, test_proba, lr, test_vectors)"
   ]
  },
  {
   "cell_type": "markdown",
   "id": "automotive-berry",
   "metadata": {},
   "source": [
    "### Conclusion\n",
    "\n",
    "We see that for a logistic regression model, the metrics like accuracy, F1, and AUC is doing well on the training data. However, there is a drop in performance on test data. This mean the model is overfitting. We will look at some other modelling techniques and algorithms in the next notebook as I don't want to make this a very large notebook."
   ]
  }
 ],
 "metadata": {
  "kernelspec": {
   "display_name": "Python 3 (ipykernel)",
   "language": "python",
   "name": "python3"
  },
  "language_info": {
   "codemirror_mode": {
    "name": "ipython",
    "version": 3
   },
   "file_extension": ".py",
   "mimetype": "text/x-python",
   "name": "python",
   "nbconvert_exporter": "python",
   "pygments_lexer": "ipython3",
   "version": "3.9.6"
  }
 },
 "nbformat": 4,
 "nbformat_minor": 5
}
